{
 "cells": [
  {
   "cell_type": "code",
   "execution_count": 11,
   "metadata": {},
   "outputs": [],
   "source": [
    "import pandas as pd\n",
    "from sklearn.linear_model import LinearRegression\n",
    "from sklearn.ensemble import GradientBoostingRegressor\n",
    "from sklearn.metrics import mean_absolute_error, mean_absolute_percentage_error\n",
    "from sklearn.preprocessing import StandardScaler\n",
    "from sklearn.model_selection import GridSearchCV\n",
    "import matplotlib.pyplot as plt"
   ]
  },
  {
   "cell_type": "code",
   "execution_count": 12,
   "metadata": {},
   "outputs": [],
   "source": [
    "aggregated_data = pd.read_csv('chicago_preprocessed.csv')"
   ]
  },
  {
   "cell_type": "code",
   "execution_count": 15,
   "metadata": {},
   "outputs": [
    {
     "name": "stdout",
     "output_type": "stream",
     "text": [
      "Training Linear Regression Model...\n",
      "Linear Regression MAPE: 1.6750\n",
      "Training Gradient Boosting Model...\n",
      "Fitting 3 folds for each of 18 candidates, totalling 54 fits\n",
      "Gradient Boosting MAPE: 1.2121\n",
      "\n",
      "MAPE Comparison:\n",
      "Linear Regression: 1.6750\n",
      "Gradient Boosting: 1.2121\n",
      "Predictions for Period 20:\n",
      "       Airbnb Host ID  Airbnb Property ID  Predicted Occupancy Rate\n",
      "15             2613.0              2384.0                  0.264272\n",
      "31             5775.0              4505.0                  0.205164\n",
      "58            17928.0              7126.0                  0.260349\n",
      "73            33004.0              9811.0                  0.281617\n",
      "89            33004.0             10945.0                  0.293849\n",
      "...               ...                 ...                       ...\n",
      "72122     289257440.0          42714699.0                  0.482583\n",
      "72123     273627718.0          42746404.0                  0.051665\n",
      "72124     336396789.0          42776417.0                  0.183601\n",
      "72125      44131859.0          42791632.0                  0.097239\n",
      "72126      72165035.0          42795682.0                  0.034443\n",
      "\n",
      "[3845 rows x 3 columns]\n"
     ]
    },
    {
     "name": "stderr",
     "output_type": "stream",
     "text": [
      "/var/folders/66/kjdgfk_530v31znwf93fdr6h0000gn/T/ipykernel_62980/506065864.py:76: SettingWithCopyWarning: \n",
      "A value is trying to be set on a copy of a slice from a DataFrame.\n",
      "Try using .loc[row_indexer,col_indexer] = value instead\n",
      "\n",
      "See the caveats in the documentation: https://pandas.pydata.org/pandas-docs/stable/user_guide/indexing.html#returning-a-view-versus-a-copy\n",
      "  prediction_data['Predicted Occupancy Rate'] = y_pred\n"
     ]
    }
   ],
   "source": [
    "# Define categorical and numerical columns\n",
    "categorical_cols = ['Property Type', 'Listing Type', 'Neighborhood']\n",
    "numerical_cols = [\n",
    "    'rating_ave_pastYear', 'numReviews_pastYear', 'numCancel_pastYear', 'num_5_star_Rev_pastYear',\n",
    "    'prop_5_StarReviews_pastYear', 'numReservedDays_pastYear', 'numReserv_pastYear', 'available_days',\n",
    "    'available_days_aveListedPrice', 'booked_days', 'booked_days_avePrice', 'Bedrooms', 'Bathrooms',\n",
    "    'Max Guests', 'Cleaning Fee (USD)', 'Minimum Stay', 'Number of Photos', 'Nightly Rate',\n",
    "    'Number of Reviews', 'Rating Overall', 'revenue', 'property_age_months'\n",
    "]\n",
    "\n",
    "# Exclude unnecessary columns\n",
    "exclude_cols = ['Scraped Date', 'Airbnb Host ID', 'Airbnb Property ID', 'Created Date']\n",
    "\n",
    "# Preprocess the dataset\n",
    "def preprocess_data(df, categorical_cols, numerical_cols, reference_columns=None):\n",
    "    # Drop excluded columns\n",
    "    df = df.drop(columns=exclude_cols, errors='ignore')\n",
    "    # Convert categorical columns to dummy variables\n",
    "    df = pd.get_dummies(df, columns=categorical_cols, drop_first=True)\n",
    "    # Standardize numerical columns\n",
    "    scaler = StandardScaler()\n",
    "    df[numerical_cols] = scaler.fit_transform(df[numerical_cols])\n",
    "    # Align columns with reference_columns (if provided)\n",
    "    if reference_columns is not None:\n",
    "        for col in reference_columns:\n",
    "            if col not in df.columns:\n",
    "                df[col] = 0\n",
    "        df = df[reference_columns]\n",
    "    return df\n",
    "\n",
    "# Split the dataset\n",
    "training_data = aggregated_data[aggregated_data['superhost_period_all'] <= 18]\n",
    "testing_data = aggregated_data[aggregated_data['superhost_period_all'] == 19]\n",
    "prediction_data = aggregated_data[aggregated_data['superhost_period_all'] == 20]\n",
    "\n",
    "# Preprocess train, test, and prediction sets\n",
    "X_train = preprocess_data(training_data.drop(['occupancy_rate'], axis=1), categorical_cols, numerical_cols)\n",
    "y_train = training_data['occupancy_rate']\n",
    "\n",
    "X_test = preprocess_data(testing_data.drop(['occupancy_rate'], axis=1), categorical_cols, numerical_cols, X_train.columns)\n",
    "y_test = testing_data['occupancy_rate']\n",
    "\n",
    "X_pred = preprocess_data(prediction_data.drop(['occupancy_rate'], axis=1), categorical_cols, numerical_cols, X_train.columns)\n",
    "\n",
    "# Linear Regression Model\n",
    "print(\"Training Linear Regression Model...\")\n",
    "lr_model = LinearRegression()\n",
    "lr_model.fit(X_train, y_train)\n",
    "y_test_pred_lr = lr_model.predict(X_test)\n",
    "mape_lr = mean_absolute_percentage_error(y_test, y_test_pred_lr)\n",
    "print(f\"Linear Regression MAPE: {mape_lr:.4f}\")\n",
    "\n",
    "# Gradient Boosting Model\n",
    "print(\"Training Gradient Boosting Model...\")\n",
    "gb_model = GradientBoostingRegressor(random_state=42)\n",
    "param_grid = {\n",
    "    'n_estimators': [100, 300],\n",
    "    'max_depth': [3, 5, 7],\n",
    "    'learning_rate': [0.05, 0.1, 0.2]\n",
    "}\n",
    "gb_grid = GridSearchCV(gb_model, param_grid, scoring='neg_mean_absolute_percentage_error', cv=3, verbose=1, n_jobs=-1)\n",
    "gb_grid.fit(X_train, y_train)\n",
    "best_gb_model = gb_grid.best_estimator_\n",
    "y_test_pred_gb = best_gb_model.predict(X_test)\n",
    "mape_gb = mean_absolute_percentage_error(y_test, y_test_pred_gb)\n",
    "print(f\"Gradient Boosting MAPE: {mape_gb:.4f}\")\n",
    "\n",
    "# Compare Models\n",
    "print(f\"\\nMAPE Comparison:\\nLinear Regression: {mape_lr:.4f}\\nGuradient Boosting: {mape_gb:.4f}\")\n",
    "\n",
    "# Choose Best Model\n",
    "best_model = lr_model if mape_lr < mape_gb else best_gb_model\n",
    "y_pred = best_model.predict(X_pred)\n",
    "\n",
    "# Save Predictions for Period 20\n",
    "prediction_data['Predicted Occupancy Rate'] = y_pred\n",
    "print(\"Predictions for Period 20:\")\n",
    "print(prediction_data[['Airbnb Host ID', 'Airbnb Property ID', 'Predicted Occupancy Rate']])"
   ]
  },
  {
   "cell_type": "code",
   "execution_count": null,
   "metadata": {},
   "outputs": [],
   "source": []
  }
 ],
 "metadata": {
  "kernelspec": {
   "display_name": "Python 3",
   "language": "python",
   "name": "python3"
  },
  "language_info": {
   "codemirror_mode": {
    "name": "ipython",
    "version": 3
   },
   "file_extension": ".py",
   "mimetype": "text/x-python",
   "name": "python",
   "nbconvert_exporter": "python",
   "pygments_lexer": "ipython3",
   "version": "3.9.6"
  }
 },
 "nbformat": 4,
 "nbformat_minor": 2
}
